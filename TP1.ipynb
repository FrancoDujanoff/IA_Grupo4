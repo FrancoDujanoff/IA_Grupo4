{
 "cells": [
  {
   "attachments": {},
   "cell_type": "markdown",
   "metadata": {
    "id": "jWUX78DM7n9T"
   },
   "source": [
    "# Temas Tratados en el Trabajo Práctico 1\n",
    "\n",
    "* Diferencia entre Inteligencia e Inteligencia Artificial.\n",
    "\n",
    "* Concepto de omnisciencia, aprendizaje y autonomía.\n",
    "\n",
    "* Definición de Agente y sus características. Clasificación de Agentes según su estructura.\n",
    "\n",
    "* Identificación y categorización del Entorno de Trabajo en tabla REAS.\n",
    "\n",
    "* Caracterización del Entorno de Trabajo.\n",
    "\n",
    "# Anotaciones\n",
    "\n",
    "\"Acordarse de la definición de agente\""
   ]
  },
  {
   "cell_type": "markdown",
   "metadata": {},
   "source": [
    "# Ejercicios Teóricos\n",
    "\n",
    "1. Defina con sus propias palabras inteligencia natural, inteligencia artificial y agente."
   ]
  },
  {
   "cell_type": "markdown",
   "metadata": {},
   "source": [
    "La inteligencia natural es la propia generada por la naturaleza en los sere vivos, la cual esta dada por eventos que ocurren en el cerebro. asdas"
   ]
  },
  {
   "cell_type": "markdown",
   "metadata": {},
   "source": [
    "La inteligencia artificial es aquella inteligencia que esta desarrollada completamente dentro de una computadora, y que funciona mediante un algoritmo generado por una persona"
   ]
  },
  {
   "cell_type": "markdown",
   "metadata": {},
   "source": [
    "Un agente es alguna cosa que interactua con el entorno, a partir de percepciones que recibe de el"
   ]
  },
  {
   "cell_type": "markdown",
   "metadata": {},
   "source": [
    "\n",
    "2. ¿Qué es un agente racional?"
   ]
  },
  {
   "cell_type": "markdown",
   "metadata": {},
   "source": [
    "Un agente racional es aquel que elige la accion que supuestamente maximice su medida de rendimiento, basandose en las evidencias aportadas por la secuencia de percepciones y en el conocimiento que el agente mantiene almacenado"
   ]
  },
  {
   "cell_type": "markdown",
   "metadata": {},
   "source": [
    "3. ¿Un agente es siempre una computadora?"
   ]
  },
  {
   "cell_type": "markdown",
   "metadata": {},
   "source": [
    "No todos los agentes son desarrollados por computadoras, como un agente es alguien que pecibe su entorno y actua sobre el, un agente si puede ser una computadora, pero tambien puede ser un ser vivo que recibe sentidos y actua."
   ]
  },
  {
   "cell_type": "markdown",
   "metadata": {},
   "source": [
    "4. Defina Omnisciencia, Aprendizaje y Autonomía."
   ]
  },
  {
   "cell_type": "markdown",
   "metadata": {},
   "source": [
    "Omnisciencia es el conocimiento completo y perfecto sobre el estado actual del entorno y sobre las consecuencias de cada una de las acciones posibles, esto es imposible en entornos reales debido a que existe incertidumbre"
   ]
  },
  {
   "cell_type": "markdown",
   "metadata": {},
   "source": [
    "Aprendizaje es el proceso mediante el cual un agente mejora su comportamiento a partir del estudio de experiencias pasadas y predicciones sobre el futuro"
   ]
  },
  {
   "cell_type": "markdown",
   "metadata": {},
   "source": [
    "Autonomia es la capacidad de un agente de operar y tomar decisiones sin intervencion humana directa, basandose en sus propias percepciones y conocimientos adquiridos"
   ]
  },
  {
   "cell_type": "markdown",
   "metadata": {},
   "source": [
    "5. Defina cada tipo de agente en función de su **estructura** y dé un ejemplo de cada categoría."
   ]
  },
  {
   "cell_type": "markdown",
   "metadata": {},
   "source": [
    "Agente Reactivo Simple: funcion con reglas, a una determinada condicion le sigue una determinada accion. No almacena informacion del pasado, sino que responde directamente a las percepciones actuales. Por ejemplo un robot aspiradora basico que gira cuando detecta un obstaculo "
   ]
  },
  {
   "cell_type": "markdown",
   "metadata": {},
   "source": [
    "Agente Reactivo basado en Modelos: mantiene un estado interno que representa informacion sobre el mundo no visible en el momento, usa ese estado y un modelo de como evoluciona el entorno para decidir. Por ejemplo un termostato que predice temperatura usando el modelo fisico, para decidir si prender o apagar"
   ]
  },
  {
   "cell_type": "markdown",
   "metadata": {},
   "source": [
    "Agente basado en Objetivos: ademas del estado, tiene una descripcion de objetivos y elige las acciones que mas lo acercen a los objetivos. Por ejmplo un GPS que planifica la ruta mas corta"
   ]
  },
  {
   "cell_type": "markdown",
   "metadata": {},
   "source": [
    "Agente basado en Utilidad: usa en funcon de utilidad que mide que tan bueno es un estado para el agente, elige acciones que maximizan la utilidad esperada. Por ejemplo un auto autonomo que elige la maniobra mas segura y rapida, considerando todos los aspectos externos"
   ]
  },
  {
   "cell_type": "markdown",
   "metadata": {},
   "source": [
    "Agente que aprende: integra componentes de aprendizaje para mejorar su rendimiento con la experiencia. Por ejemplo un sistema de recomendacion que mejora la sugerencias de productos a un usuario, dependiendo de las compras que haga"
   ]
  },
  {
   "cell_type": "markdown",
   "metadata": {},
   "source": [
    "6. Para los siguientes entornos de trabajo indique sus **propiedades**:\n",
    "\n",
    "        a. Una partida de ajedrez.\n",
    "\n",
    "        b. Un partido de baloncesto.\n",
    "\n",
    "        c. El juego Pacman.\n",
    "\n",
    "        d. El truco.\n",
    "\n",
    "        e. Las damas.\n",
    "\n",
    "        f. El juego tres en raya.\n",
    "\n",
    "        g. Un jugador de Pokémon Go.\n",
    "\n",
    "        h. Un robot explorador autónomo de Marte."
   ]
  },
  {
   "cell_type": "markdown",
   "metadata": {},
   "source": [
    "7. Elabore una tabla REAS para los siguientes entornos de trabajo:\n",
    "\n",
    "        a. Crucigrama. (Considero un juego de mesa)\n",
    "\n",
    "        b. Taxi circulando.\n",
    "\n",
    "        c. Robot clasificador de piezas. (Considero un brazo robotico)\n",
    "\n",
    "        Agente: {[Jugadores], [Conductor], [Robot clasificador de piezas]}\n",
    "        Medidas de Rendimiento: {[Variabilidad de combinaciones de letras], [Seguridad, Comodidad, Tiempo de trayecto, Distancia], [Velocidad, Precision, Consumo electrico, Optimizar movimientos]}\n",
    "        Entorno: {[Tablero, Demas letras posicionadas], [Taxi, Calles, Peatones, Clientes, Rutas], [Cinta transportadora, Objeto, Recipiente de almacenamiento]}\n",
    "        Actuadores: {[Las manos], [Pedales, Palanca de cambios, Volante, Luces], [Pinzas, motores, correas, armazon, cables]}\n",
    "        Sensores: {[Sentido de la vista], [Sentidos humanos, Sensores del auto, gps], [De Velocidad, de Posicion, de Aceleracion]}"
   ]
  },
  {
   "cell_type": "markdown",
   "metadata": {},
   "source": [
    "# Ejercicios Prácticos\n",
    "\n",
    "8. La Hormiga de Langton es un agente capaz de modificar el estado de la casilla en la que se encuentra para colorearla o bien de blanco o de negro. Al comenzar, la ubicación de la hormiga es una casilla aleatoria y mira hacia una de las cuatro casillas adyacentes. Si...\n",
    "\n",
    "* ... la casilla sobre la que está es blanca, cambia el color del cuadrado, gira noventa grados a la derecha y avanza un cuadrado.\n",
    "\n",
    "* ... la casilla sobre la que está es negra, cambia el color del cuadrado, gira noventa grados a la izquierda y avanza un cuadrado.\n",
    "\n",
    "    Caracterice el agente con su tabla REAS y las propiedades del entorno para después programarlo en Python:\n",
    "\n",
    "    ¿Observa que se repite algún patrón? De ser así, ¿a partir de qué iteración?"
   ]
  },
  {
   "cell_type": "markdown",
   "metadata": {},
   "source": [
    "Agente: Hormiga\n",
    "Rendimiento: \n",
    "Entornos: Rejilla bidimensional de celdas\n",
    "Actuadores: Girar noventa grados a la derecha. Avanzar. Girar noventa grados a la izquierda\n",
    "Sensores: Sensor de color (para detectar el color). Sensor de orientacion (para saber para donde mira)"
   ]
  },
  {
   "cell_type": "markdown",
   "metadata": {},
   "source": []
  },
  {
   "cell_type": "code",
   "execution_count": 3,
   "metadata": {},
   "outputs": [
    {
     "ename": "TclError",
     "evalue": "invalid command name \".!canvas\"",
     "output_type": "error",
     "traceback": [
      "\u001b[31m---------------------------------------------------------------------------\u001b[39m",
      "\u001b[31mTclError\u001b[39m                                  Traceback (most recent call last)",
      "\u001b[36mCell\u001b[39m\u001b[36m \u001b[39m\u001b[32mIn[3]\u001b[39m\u001b[32m, line 130\u001b[39m\n\u001b[32m    127\u001b[39m     border.forward(n/\u001b[32m2\u001b[39m)\n\u001b[32m    129\u001b[39m \u001b[38;5;66;03m#Se ejecuta el código\u001b[39;00m\n\u001b[32m--> \u001b[39m\u001b[32m130\u001b[39m \u001b[43mlangtonAnt\u001b[49m\u001b[43m(\u001b[49m\u001b[43m)\u001b[49m\n",
      "\u001b[36mCell\u001b[39m\u001b[36m \u001b[39m\u001b[32mIn[3]\u001b[39m\u001b[32m, line 80\u001b[39m, in \u001b[36mlangtonAnt\u001b[39m\u001b[34m()\u001b[39m\n\u001b[32m     78\u001b[39m \u001b[38;5;28;01melif\u001b[39;00m maps[pos] == \u001b[33m\"\u001b[39m\u001b[33mblack\u001b[39m\u001b[33m\"\u001b[39m:\n\u001b[32m     79\u001b[39m     ant.fillcolor(\u001b[33m\"\u001b[39m\u001b[33mwhite\u001b[39m\u001b[33m\"\u001b[39m)\n\u001b[32m---> \u001b[39m\u001b[32m80\u001b[39m     \u001b[43mant\u001b[49m\u001b[43m.\u001b[49m\u001b[43mstamp\u001b[49m\u001b[43m(\u001b[49m\u001b[43m)\u001b[49m\n\u001b[32m     81\u001b[39m     invert(maps, ant, \u001b[33m\"\u001b[39m\u001b[33mwhite\u001b[39m\u001b[33m\"\u001b[39m)\n\u001b[32m     82\u001b[39m     ant.left(\u001b[32m90\u001b[39m)\n",
      "\u001b[36mFile \u001b[39m\u001b[32mC:\\Program Files\\WindowsApps\\PythonSoftwareFoundation.Python.3.13_3.13.1776.0_x64__qbz5n2kfra8p0\\Lib\\turtle.py:3095\u001b[39m, in \u001b[36mRawTurtle.stamp\u001b[39m\u001b[34m(self)\u001b[39m\n\u001b[32m   3093\u001b[39m tshape = shape._data\n\u001b[32m   3094\u001b[39m \u001b[38;5;28;01mif\u001b[39;00m ttype == \u001b[33m\"\u001b[39m\u001b[33mpolygon\u001b[39m\u001b[33m\"\u001b[39m:\n\u001b[32m-> \u001b[39m\u001b[32m3095\u001b[39m     stitem = \u001b[43mscreen\u001b[49m\u001b[43m.\u001b[49m\u001b[43m_createpoly\u001b[49m\u001b[43m(\u001b[49m\u001b[43m)\u001b[49m\n\u001b[32m   3096\u001b[39m     \u001b[38;5;28;01mif\u001b[39;00m \u001b[38;5;28mself\u001b[39m._resizemode == \u001b[33m\"\u001b[39m\u001b[33mnoresize\u001b[39m\u001b[33m\"\u001b[39m: w = \u001b[32m1\u001b[39m\n\u001b[32m   3097\u001b[39m     \u001b[38;5;28;01melif\u001b[39;00m \u001b[38;5;28mself\u001b[39m._resizemode == \u001b[33m\"\u001b[39m\u001b[33mauto\u001b[39m\u001b[33m\"\u001b[39m: w = \u001b[38;5;28mself\u001b[39m._pensize\n",
      "\u001b[36mFile \u001b[39m\u001b[32mC:\\Program Files\\WindowsApps\\PythonSoftwareFoundation.Python.3.13_3.13.1776.0_x64__qbz5n2kfra8p0\\Lib\\turtle.py:490\u001b[39m, in \u001b[36mTurtleScreenBase._createpoly\u001b[39m\u001b[34m(self)\u001b[39m\n\u001b[32m    487\u001b[39m \u001b[38;5;28;01mdef\u001b[39;00m\u001b[38;5;250m \u001b[39m\u001b[34m_createpoly\u001b[39m(\u001b[38;5;28mself\u001b[39m):\n\u001b[32m    488\u001b[39m \u001b[38;5;250m    \u001b[39m\u001b[33;03m\"\"\"Create an invisible polygon item on canvas self.cv)\u001b[39;00m\n\u001b[32m    489\u001b[39m \u001b[33;03m    \"\"\"\u001b[39;00m\n\u001b[32m--> \u001b[39m\u001b[32m490\u001b[39m     \u001b[38;5;28;01mreturn\u001b[39;00m \u001b[38;5;28;43mself\u001b[39;49m\u001b[43m.\u001b[49m\u001b[43mcv\u001b[49m\u001b[43m.\u001b[49m\u001b[43mcreate_polygon\u001b[49m\u001b[43m(\u001b[49m\u001b[43m(\u001b[49m\u001b[32;43m0\u001b[39;49m\u001b[43m,\u001b[49m\u001b[43m \u001b[49m\u001b[32;43m0\u001b[39;49m\u001b[43m,\u001b[49m\u001b[43m \u001b[49m\u001b[32;43m0\u001b[39;49m\u001b[43m,\u001b[49m\u001b[43m \u001b[49m\u001b[32;43m0\u001b[39;49m\u001b[43m,\u001b[49m\u001b[43m \u001b[49m\u001b[32;43m0\u001b[39;49m\u001b[43m,\u001b[49m\u001b[43m \u001b[49m\u001b[32;43m0\u001b[39;49m\u001b[43m)\u001b[49m\u001b[43m,\u001b[49m\u001b[43m \u001b[49m\u001b[43mfill\u001b[49m\u001b[43m=\u001b[49m\u001b[33;43m\"\u001b[39;49m\u001b[33;43m\"\u001b[39;49m\u001b[43m,\u001b[49m\u001b[43m \u001b[49m\u001b[43moutline\u001b[49m\u001b[43m=\u001b[49m\u001b[33;43m\"\u001b[39;49m\u001b[33;43m\"\u001b[39;49m\u001b[43m)\u001b[49m\n",
      "\u001b[36mFile \u001b[39m\u001b[32m<string>:1\u001b[39m, in \u001b[36mcreate_polygon\u001b[39m\u001b[34m(self, *args, **kw)\u001b[39m\n",
      "\u001b[36mFile \u001b[39m\u001b[32mC:\\Program Files\\WindowsApps\\PythonSoftwareFoundation.Python.3.13_3.13.1776.0_x64__qbz5n2kfra8p0\\Lib\\tkinter\\__init__.py:3002\u001b[39m, in \u001b[36mCanvas.create_polygon\u001b[39m\u001b[34m(self, *args, **kw)\u001b[39m\n\u001b[32m   3000\u001b[39m \u001b[38;5;28;01mdef\u001b[39;00m\u001b[38;5;250m \u001b[39m\u001b[34mcreate_polygon\u001b[39m(\u001b[38;5;28mself\u001b[39m, *args, **kw):\n\u001b[32m   3001\u001b[39m \u001b[38;5;250m    \u001b[39m\u001b[33;03m\"\"\"Create polygon with coordinates x1,y1,...,xn,yn.\"\"\"\u001b[39;00m\n\u001b[32m-> \u001b[39m\u001b[32m3002\u001b[39m     \u001b[38;5;28;01mreturn\u001b[39;00m \u001b[38;5;28;43mself\u001b[39;49m\u001b[43m.\u001b[49m\u001b[43m_create\u001b[49m\u001b[43m(\u001b[49m\u001b[33;43m'\u001b[39;49m\u001b[33;43mpolygon\u001b[39;49m\u001b[33;43m'\u001b[39;49m\u001b[43m,\u001b[49m\u001b[43m \u001b[49m\u001b[43margs\u001b[49m\u001b[43m,\u001b[49m\u001b[43m \u001b[49m\u001b[43mkw\u001b[49m\u001b[43m)\u001b[49m\n",
      "\u001b[36mFile \u001b[39m\u001b[32mC:\\Program Files\\WindowsApps\\PythonSoftwareFoundation.Python.3.13_3.13.1776.0_x64__qbz5n2kfra8p0\\Lib\\tkinter\\__init__.py:2976\u001b[39m, in \u001b[36mCanvas._create\u001b[39m\u001b[34m(self, itemType, args, kw)\u001b[39m\n\u001b[32m   2974\u001b[39m \u001b[38;5;28;01melse\u001b[39;00m:\n\u001b[32m   2975\u001b[39m     cnf = {}\n\u001b[32m-> \u001b[39m\u001b[32m2976\u001b[39m \u001b[38;5;28;01mreturn\u001b[39;00m \u001b[38;5;28mself\u001b[39m.tk.getint(\u001b[38;5;28;43mself\u001b[39;49m\u001b[43m.\u001b[49m\u001b[43mtk\u001b[49m\u001b[43m.\u001b[49m\u001b[43mcall\u001b[49m\u001b[43m(\u001b[49m\n\u001b[32m   2977\u001b[39m \u001b[43m    \u001b[49m\u001b[38;5;28;43mself\u001b[39;49m\u001b[43m.\u001b[49m\u001b[43m_w\u001b[49m\u001b[43m,\u001b[49m\u001b[43m \u001b[49m\u001b[33;43m'\u001b[39;49m\u001b[33;43mcreate\u001b[39;49m\u001b[33;43m'\u001b[39;49m\u001b[43m,\u001b[49m\u001b[43m \u001b[49m\u001b[43mitemType\u001b[49m\u001b[43m,\u001b[49m\n\u001b[32m   2978\u001b[39m \u001b[43m    \u001b[49m\u001b[43m*\u001b[49m\u001b[43m(\u001b[49m\u001b[43margs\u001b[49m\u001b[43m \u001b[49m\u001b[43m+\u001b[49m\u001b[43m \u001b[49m\u001b[38;5;28;43mself\u001b[39;49m\u001b[43m.\u001b[49m\u001b[43m_options\u001b[49m\u001b[43m(\u001b[49m\u001b[43mcnf\u001b[49m\u001b[43m,\u001b[49m\u001b[43m \u001b[49m\u001b[43mkw\u001b[49m\u001b[43m)\u001b[49m\u001b[43m)\u001b[49m\u001b[43m)\u001b[49m)\n",
      "\u001b[31mTclError\u001b[39m: invalid command name \".!canvas\""
     ]
    }
   ],
   "source": [
    "import turtle\n",
    "import sys\n",
    "import time\n",
    "import math\n",
    "from win32api import GetSystemMetrics\n",
    "from easygui import multenterbox, msgbox\n",
    "\n",
    "def langtonAnt():\n",
    "    \n",
    "    #Configuración el multenterbox para pedir datos al usuario\n",
    "    msg = \"Por favor, introduzca los datos\" + \"\\nNota 1: Tenga en cuenta que la posición x, y = (0, 0) es el centro de la ventana, pero su <<n>> será tomado de forma global.\" + \"\\nNota 2: Tenga en cuenta que La hormiga sigue un camino aparentemente azaroso hasta los 10.000 pasos.\"\n",
    "    title = \"La hormiga de Langton\"\n",
    "    fieldNames = [\"Número de movimientos:\", \"Posición inicial x:\", \"Posición inicial y:\", \"Tamaño <<n>> de la grilla:\"]\n",
    "    fieldValues = multenterbox(msg, title, fieldNames)\n",
    "    if fieldValues is None:\n",
    "        sys.exit(0)\n",
    "    \n",
    "    #Se comprueba que el usuario ha llenado todos los campos\n",
    "    while 1:\n",
    "        errorMsg = \"\"\n",
    "        for i, name in enumerate(fieldNames):\n",
    "            if fieldValues[i].strip() == \"\":\n",
    "                errorMsg += \"{} Es un campo requerido para iniciar.\\n\\n\".format(name)\n",
    "        if errorMsg == \"\":\n",
    "            break #Todos los campos llenos\n",
    "        fieldValues = multenterbox(errorMsg, title, fieldNames, fieldValues)\n",
    "        if fieldValues is None:\n",
    "            break\n",
    "    \n",
    "    #Configuración la ventana\n",
    "    widht = GetSystemMetrics(0)\n",
    "    height = GetSystemMetrics(1)\n",
    "    wn = turtle.Screen()\n",
    "    wn.title(\"La Hormiga de Langton\")\n",
    "    wn.bgcolor(\"white\")\n",
    "    wn.screensize(widht, height)\n",
    "\n",
    "    #Se llama la función para dibujar el borde de la grilla\n",
    "    border((int(fieldValues[3])+10))\n",
    "\n",
    "    #Configuración del texto contador de movimientos\n",
    "    text = turtle.Turtle()\n",
    "    text.speed(0)\n",
    "    text.color(\"red\")\n",
    "    text.penup()\n",
    "    text.hideturtle()\n",
    "    text.goto(0, 300)\n",
    "\n",
    "    #Dicionario con las cordenadas y su respectivo color \n",
    "    maps = {}\n",
    "\n",
    "    #Configuración de la hormiga\n",
    "    ant =  turtle.Turtle()\n",
    "    ant.shape(\"square\")\n",
    "    ant.shapesize(0.5)\n",
    "    ant.penup()\n",
    "    ant.goto(int(fieldValues[1]), int(fieldValues[2]))\n",
    "    ant.speed(0)\n",
    "    pos = coordinate(ant)\n",
    "\n",
    "    #Variable para contar los movimientos\n",
    "    cont = 0\n",
    "\n",
    "    #Variable para verificar que la hormiga no se salga de los limites\n",
    "    hit = False\n",
    "    \n",
    "    #Movimiento de la hormiga\n",
    "    while cont <= int(fieldValues[0])-1 and hit == False:\n",
    "        step = 10\n",
    "        if pos not in maps or maps[pos] == \"white\":\n",
    "            ant.fillcolor(\"black\")\n",
    "            ant.stamp()\n",
    "            invert(maps, ant, \"black\")\n",
    "            ant.right(90)\n",
    "            ant.forward(step)\n",
    "            pos = coordinate(ant)\n",
    "            cont += 1\n",
    "        elif maps[pos] == \"black\":\n",
    "            ant.fillcolor(\"white\")\n",
    "            ant.stamp()\n",
    "            invert(maps, ant, \"white\")\n",
    "            ant.left(90)\n",
    "            ant.forward(step)\n",
    "            pos = coordinate(ant)\n",
    "            cont += 1\n",
    "        \n",
    "        #Comprueba que la hormiga esta dentro de la grilla\n",
    "        if round(math.fabs(ant.xcor())) > (int(fieldValues[3]) / 2) - 1:\n",
    "            hit = True\n",
    "            msgbox(msg=\"La hormiga no puede segir avanzando porque chocó con los bordes de la grilla que usted introdujo.\"\n",
    "            \"\\nSi desea que la hormiga complete todos los movimientos, se recomienda introducir una grilla mas grande.\", title=\"Fuera de límites\", ok_button=\"Aceptar\")\n",
    "        if round(math.fabs(ant.ycor())) > (int(fieldValues[3]) / 2) - 1:\n",
    "            hit = True\n",
    "            msgbox(msg=\"La hormiga no puede segir avanzando porque chocó con los bordes de la grilla que usted introdujo.\"\n",
    "            \"\\nSi desea que la hormiga complete todos los movimientos, se recomienda introducir una grilla mas grande.\", title=\"Fuera de límites\", ok_button=\"Aceptar\")\n",
    "\n",
    "        text.clear()\n",
    "        text.write(\"Movimientos: {}\".format(cont), align=\"center\", font=(\"Courier\", 24, \"normal\")) \n",
    "\n",
    "    while True:\n",
    "        wn.update()        \n",
    "\n",
    "#Devuelve la cordenada de la hormiga en una tupla\n",
    "def coordinate(ant):\n",
    "    return (round(ant.xcor()), round(ant.ycor()))\n",
    "\n",
    "#Invierte el color de la celda de la grilla en que está la hormiga\n",
    "def invert(graph, ant, color):\n",
    "    graph[coordinate(ant)] = color\n",
    "\n",
    "#Dibuja el borde de la grilla\n",
    "def border(n):\n",
    "    border = turtle.Turtle()\n",
    "    border.hideturtle()\n",
    "    border.penup()\n",
    "    border.goto(n/2, 0)\n",
    "    border.pendown()\n",
    "    border.left(90)\n",
    "    border.forward(n/2)\n",
    "    border.left(90)\n",
    "    border.forward(n)\n",
    "    border.left(90)\n",
    "    border.forward(n)\n",
    "    border.left(90)\n",
    "    border.forward(n)\n",
    "    border.left(90)\n",
    "    border.forward(n/2)\n",
    "\n",
    "#Se ejecuta el código\n",
    "langtonAnt()"
   ]
  },
  {
   "cell_type": "markdown",
   "metadata": {},
   "source": [
    "9. El Juego de la Vida de Conway consiste en un tablero donde cada casilla representa una célula, de manera que a cada célula le rodean 8 vecinas. Las células tienen dos estados: están *vivas* o *muertas*. En cada iteración, el estado de todas las células se tiene en cuenta para calcular el estado siguiente en simultáneo de acuerdo a las siguientes acciones:\n",
    "\n",
    "* Nacer: Si una célula muerta tiene exactamente 3 células vecinas vivas, dicha célula pasa a estar viva.\n",
    "\n",
    "* Morir: Una célula viva puede morir sobrepoblación cuando tiene más de tres vecinos alrededor o por aislamiento si tiene solo un vecino o ninguno.\n",
    "\n",
    "* Vivir: una célula se mantiene viva si tiene 2 o 3 vecinos a su alrededor.\n",
    "\n",
    "    Caracterice el agente con su tabla REAS y las propiedades del entorno para después programarlo en Python:\n",
    "\n",
    "REAS (por célula-agente)\n",
    "\n",
    "Rendimiento: Persistencia de patrones locales (p. ej., “seguir vivo si hay 2–3 vecinas” o “nacer si hay 3”).\n",
    "(Opcional) Objetivos emergentes: maximizar supervivencia local o estabilidad del patrón. Para lo que fue creado el código cumple con las expectativas\n",
    "\n",
    "Entorno: Las 8 celdas vecinas inmediatas (vecindad de Moore) y su estado actual en cada tick.\n",
    "\n",
    "Actuadores: Cambiar su propio estado en el próximo tick.\n",
    "\n",
    "Sensores: Contar vecinas vivas (lectura de estados inmediatos).\n",
    "\n",
    "Propiedades del entorno (desde la perspectiva de cada célula)\n",
    "\n",
    "Observabilidad: Parcial-local (solo percibe vecinas inmediatas; globalmente, el sistema es observable si miramos toda la grilla).\n",
    "\n",
    "Determinismo: Determinista (su próxima acción/estado depende únicamente del recuento local actual).\n",
    "\n",
    "Episódico vs. Secuencial: Secuencial (la historia importa a través del estado previo).\n",
    "\n",
    "Estático vs. Dinámico: Dinámico por ticks (las vecinas pueden cambiar en cada paso).\n",
    "\n",
    "Discreto vs. Continuo: Discreto.\n",
    "\n",
    "Individual vs. Multiagente: Multiagente (muchas células actuando en paralelo con reglas locales)."
   ]
  },
  {
   "cell_type": "code",
   "execution_count": null,
   "metadata": {},
   "outputs": [],
   "source": [
    "import numpy as np\n",
    "from scipy.signal import convolve2d\n",
    "\n",
    "class GameOfLife:\n",
    "    \"\"\"\n",
    "    Implementación del Juego de la Vida de Conway.\n",
    "    Estados: True = viva, False = muerta.\n",
    "    boundary: \"fixed\" (bordes muertos) o \"toroidal\" (mundo envolvente).\n",
    "    \"\"\"\n",
    "    KERNEL = np.array([[1,1,1],\n",
    "                       [1,0,1],\n",
    "                       [1,1,1]], dtype=int)\n",
    "\n",
    "    def __init__(self, board: np.ndarray, boundary: str = \"fixed\"):\n",
    "        if board.dtype != np.bool_:\n",
    "            board = board.astype(bool)\n",
    "        self.board = board.copy()\n",
    "        if boundary not in (\"fixed\", \"toroidal\"):\n",
    "            raise ValueError('boundary debe ser \"fixed\" o \"toroidal\"')\n",
    "        self.boundary = boundary\n",
    "\n",
    "    @classmethod\n",
    "    def from_random(cls, rows: int, cols: int, p_alive: float = 0.2, boundary: str = \"fixed\", seed: int | None = None):\n",
    "        rng = np.random.default_rng(seed)\n",
    "        board = rng.random((rows, cols)) < p_alive\n",
    "        return cls(board, boundary)\n",
    "\n",
    "    def _neighbor_count(self) -> np.ndarray:\n",
    "        if self.boundary == \"fixed\":\n",
    "            # bordes como muertos (pad implícito con zeros en la convolución 'same' y 'fillvalue=0')\n",
    "            return convolve2d(self.board.astype(int), self.KERNEL, mode=\"same\", boundary=\"fill\", fillvalue=0)\n",
    "        else:\n",
    "            # toroidal: usar wrap para simular mundo envolvente\n",
    "            # Truco: convolve2d con 'wrap' maneja bordes enrollados\n",
    "            return convolve2d(self.board.astype(int), self.KERNEL, mode=\"same\", boundary=\"wrap\")\n",
    "\n",
    "    def step(self) -> np.ndarray:\n",
    "        \"\"\"Calcula y aplica una iteración; devuelve el nuevo tablero.\"\"\"\n",
    "        neighbors = self._neighbor_count()\n",
    "        birth = (~self.board) & (neighbors == 3)\n",
    "        survive = self.board & ((neighbors == 2) | (neighbors == 3))\n",
    "        self.board = birth | survive\n",
    "        return self.board\n",
    "\n",
    "    def run(self, steps: int) -> np.ndarray:\n",
    "        \"\"\"Avanza varias iteraciones; retorna el tablero final.\"\"\"\n",
    "        for _ in range(steps):\n",
    "            self.step()\n",
    "        return self.board\n",
    "\n",
    "    def to_ascii(self, alive_char: str = \"■\", dead_char: str = \" \"):\n",
    "        \"\"\"Devuelve una string con el tablero en ASCII/Unicode.\"\"\"\n",
    "        # Convertimos booleanos a caracteres\n",
    "        rows = [\"\".join(alive_char if c else dead_char for c in row) for row in self.board]\n",
    "        return \"\\n\".join(rows)\n",
    "\n",
    "# -------------------------\n",
    "# Ejemplos de uso:\n",
    "# -------------------------\n",
    "if __name__ == \"__main__\":\n",
    "    # 1) Semilla aleatoria\n",
    "    gol = GameOfLife.from_random(rows=20, cols=40, p_alive=0.25, boundary=\"toroidal\", seed=42)\n",
    "    print(\"Estado inicial:\")\n",
    "    print(gol.to_ascii())\n",
    "\n",
    "    # 10 iteraciones\n",
    "    gol.run(10)\n",
    "    print(\"\\nEstado tras 10 iteraciones:\")\n",
    "    print(gol.to_ascii())\n",
    "\n",
    "    # 2) Semilla con patrón clásico: “glider”\n",
    "    glider = np.zeros((15, 15), dtype=bool)\n",
    "    # Coordenadas del planeador\n",
    "    coords = [(1,2), (2,3), (3,1), (3,2), (3,3)]\n",
    "    for r, c in coords:\n",
    "        glider[r, c] = True\n",
    "\n",
    "    gol2 = GameOfLife(glider, boundary=\"toroidal\")\n",
    "    print(\"\\nGlider - estado inicial:\")\n",
    "    print(gol2.to_ascii())\n",
    "\n",
    "    for i in range(4):\n",
    "        gol2.step()\n",
    "        print(f\"\\nGlider - paso {i+1}:\")\n",
    "        print(gol2.to_ascii())\n"
   ]
  },
  {
   "attachments": {},
   "cell_type": "markdown",
   "metadata": {
    "id": "oXcAF__NmgG5"
   },
   "source": [
    "# Bibliografía\n",
    "\n",
    "[Russell, S. & Norvig, P. (2004) _Inteligencia Artificial: Un Enfoque Moderno_. Pearson Educación S.A. (2a Ed.) Madrid, España](https://www.academia.edu/8241613/Inteligencia_Aritificial_Un_Enfoque_Moderno_2da_Edici%C3%B3n_Stuart_J_Russell_y_Peter_Norvig)\n",
    "\n",
    "[Poole, D. & Mackworth, A. (2023) _Artificial Intelligence: Foundations of Computational Agents_. Cambridge University Press (3a Ed.) Vancouver, Canada](https://artint.info/3e/html/ArtInt3e.html)"
   ]
  }
 ],
 "metadata": {
  "colab": {
   "provenance": []
  },
  "kernelspec": {
   "display_name": "Python 3",
   "language": "python",
   "name": "python3"
  },
  "language_info": {
   "codemirror_mode": {
    "name": "ipython",
    "version": 3
   },
   "file_extension": ".py",
   "mimetype": "text/x-python",
   "name": "python",
   "nbconvert_exporter": "python",
   "pygments_lexer": "ipython3",
   "version": "3.13.6"
  }
 },
 "nbformat": 4,
 "nbformat_minor": 4
}
