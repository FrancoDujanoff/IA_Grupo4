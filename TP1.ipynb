{
 "cells": [
  {
   "attachments": {},
   "cell_type": "markdown",
   "metadata": {
    "id": "jWUX78DM7n9T"
   },
   "source": [
    "# Temas Tratados en el Trabajo Práctico 1\n",
    "\n",
    "* Diferencia entre Inteligencia e Inteligencia Artificial.\n",
    "\n",
    "* Concepto de omnisciencia, aprendizaje y autonomía.\n",
    "\n",
    "* Definición de Agente y sus características. Clasificación de Agentes según su estructura.\n",
    "\n",
    "* Identificación y categorización del Entorno de Trabajo en tabla REAS.\n",
    "\n",
    "* Caracterización del Entorno de Trabajo.\n",
    "\n",
    "# Anotaciones\n",
    "\n",
    "\"Acordarse de la definición de agente\""
   ]
  },
  {
   "cell_type": "markdown",
   "metadata": {},
   "source": [
    "# Ejercicios Teóricos\n",
    "\n",
    "1. Defina con sus propias palabras inteligencia natural, inteligencia artificial y agente."
   ]
  },
  {
   "cell_type": "markdown",
   "metadata": {},
   "source": [
    "La inteligencia natural es la propia generada por la naturaleza en los sere vivos, la cual esta dada por eventos que ocurren en el cerebro"
   ]
  },
  {
   "cell_type": "markdown",
   "metadata": {},
   "source": [
    "La inteligencia artificial es aquella inteligencia que esta desarrollada completamente dentro de una computadora, y que funciona mediante un algoritmo generado por una persona"
   ]
  },
  {
   "cell_type": "markdown",
   "metadata": {},
   "source": [
    "Un agente es alguna cosa que interactua con el entorno, a partir de percepciones que recibe de el"
   ]
  },
  {
   "cell_type": "markdown",
   "metadata": {},
   "source": [
    "\n",
    "2. ¿Qué es un agente racional?"
   ]
  },
  {
   "cell_type": "markdown",
   "metadata": {},
   "source": [
    "Un agente racional es aquel que elige la accion que supuestamente maximice su medida de rendimiento, basandose en las evidencias aportadas por la secuencia de percepciones y en el conocimiento que el agente mantiene almacenado"
   ]
  },
  {
   "cell_type": "markdown",
   "metadata": {},
   "source": [
    "3. ¿Un agente es siempre una computadora?"
   ]
  },
  {
   "cell_type": "markdown",
   "metadata": {},
   "source": [
    "No todos los agentes son desarrollados por computadoras, como un agente es alguien que pecibe su entorno y actua sobre el, un agente si puede ser una computadora, pero tambien puede ser un ser vivo que recibe sentidos y actua."
   ]
  },
  {
   "cell_type": "markdown",
   "metadata": {},
   "source": [
    "4. Defina Omnisciencia, Aprendizaje y Autonomía."
   ]
  },
  {
   "cell_type": "markdown",
   "metadata": {},
   "source": [
    "Omnisciencia es el conocimiento completo y perfecto sobre el estado actual del entorno y sobre las consecuencias de cada una de las acciones posibles, esto es imposible en entornos reales debido a que existe incertidumbre"
   ]
  },
  {
   "cell_type": "markdown",
   "metadata": {},
   "source": [
    "Aprendizaje es el proceso mediante el cual un agente mejora su comportamiento a partir del estudio de experiencias pasadas y predicciones sobre el futuro"
   ]
  },
  {
   "cell_type": "markdown",
   "metadata": {},
   "source": [
    "Autonomia es la capacidad de un agente de operar y tomar decisiones sin intervencion humana directa, basandose en sus propias percepciones y conocimientos adquiridos"
   ]
  },
  {
   "cell_type": "markdown",
   "metadata": {},
   "source": [
    "5. Defina cada tipo de agente en función de su **estructura** y dé un ejemplo de cada categoría."
   ]
  },
  {
   "cell_type": "markdown",
   "metadata": {},
   "source": [
    "Agente Reactivo Simple: funcion con reglas, a una determinada condicion le sigue una determinada accion. No almacena informacion del pasado, sino que responde directamente a las percepciones actuales. Por ejemplo un robot aspiradora basico que gira cuando detecta un obstaculo "
   ]
  },
  {
   "cell_type": "markdown",
   "metadata": {},
   "source": [
    "Agente Reactivo basado en Modelos: mantiene un estado interno que representa informacion sobre el mundo no visible en el momento, usa ese estado y un modelo de como evoluciona el entorno para decidir. Por ejemplo un termostato que predice temperatura usando el modelo fisico, para decidir si prender o apagar"
   ]
  },
  {
   "cell_type": "markdown",
   "metadata": {},
   "source": [
    "Agente basado en Objetivos: ademas del estado, tiene una descripcion de objetivos y elige las acciones que mas lo acercen a los objetivos. Por ejmplo un GPS que planifica la ruta mas corta"
   ]
  },
  {
   "cell_type": "markdown",
   "metadata": {},
   "source": [
    "Agente basado en Utilidad: usa en funcon de utilidad que mide que tan bueno es un estado para el agente, elige acciones que maximizan la utilidad esperada. Por ejemplo un auto autonomo que elige la maniobra mas segura y rapida, considerando todos los aspectos externos"
   ]
  },
  {
   "cell_type": "markdown",
   "metadata": {},
   "source": [
    "Agente que aprende: integra componentes de aprendizaje para mejorar su rendimiento con la experiencia. Por ejemplo un sistema de recomendacion que mejora la sugerencias de productos a un usuario, dependiendo de las compras que haga"
   ]
  },
  {
   "cell_type": "markdown",
   "metadata": {},
   "source": [
    "6. Para los siguientes entornos de trabajo indique sus **propiedades**:\n",
    "\n",
    "        a. Una partida de ajedrez.\n",
    "\n",
    "        b. Un partido de baloncesto.\n",
    "\n",
    "        c. El juego Pacman.\n",
    "\n",
    "        d. El truco.\n",
    "\n",
    "        e. Las damas.\n",
    "\n",
    "        f. El juego tres en raya.\n",
    "\n",
    "        g. Un jugador de Pokémon Go.\n",
    "\n",
    "        h. Un robot explorador autónomo de Marte."
   ]
  },
  {
   "cell_type": "markdown",
   "metadata": {},
   "source": [
    "7. Elabore una tabla REAS para los siguientes entornos de trabajo:\n",
    "\n",
    "        a. Crucigrama.\n",
    "\n",
    "        b. Taxi circulando.\n",
    "\n",
    "        c. Robot clasificador de piezas."
   ]
  },
  {
   "cell_type": "markdown",
   "metadata": {},
   "source": [
    "# Ejercicios Prácticos\n",
    "\n",
    "8. La Hormiga de Langton es un agente capaz de modificar el estado de la casilla en la que se encuentra para colorearla o bien de blanco o de negro. Al comenzar, la ubicación de la hormiga es una casilla aleatoria y mira hacia una de las cuatro casillas adyacentes. Si...\n",
    "\n",
    "* ... la casilla sobre la que está es blanca, cambia el color del cuadrado, gira noventa grados a la derecha y avanza un cuadrado.\n",
    "\n",
    "* ... la casilla sobre la que está es negra, cambia el color del cuadrado, gira noventa grados a la izquierda y avanza un cuadrado.\n",
    "\n",
    "    Caracterice el agente con su tabla REAS y las propiedades del entorno para después programarlo en Python:\n",
    "\n",
    "    ¿Observa que se repite algún patrón? De ser así, ¿a partir de qué iteración?"
   ]
  },
  {
   "cell_type": "code",
   "execution_count": null,
   "metadata": {},
   "outputs": [
    {
     "ename": "ModuleNotFoundError",
     "evalue": "No module named 'easygui'",
     "output_type": "error",
     "traceback": [
      "\u001b[31m---------------------------------------------------------------------------\u001b[39m",
      "\u001b[31mModuleNotFoundError\u001b[39m                       Traceback (most recent call last)",
      "\u001b[36mCell\u001b[39m\u001b[36m \u001b[39m\u001b[32mIn[6]\u001b[39m\u001b[32m, line 6\u001b[39m\n\u001b[32m      4\u001b[39m \u001b[38;5;28;01mimport\u001b[39;00m\u001b[38;5;250m \u001b[39m\u001b[34;01mmath\u001b[39;00m\n\u001b[32m      5\u001b[39m \u001b[38;5;28;01mfrom\u001b[39;00m\u001b[38;5;250m \u001b[39m\u001b[34;01mwin32api\u001b[39;00m\u001b[38;5;250m \u001b[39m\u001b[38;5;28;01mimport\u001b[39;00m GetSystemMetrics\n\u001b[32m----> \u001b[39m\u001b[32m6\u001b[39m \u001b[38;5;28;01mfrom\u001b[39;00m\u001b[38;5;250m \u001b[39m\u001b[34;01measygui\u001b[39;00m\u001b[38;5;250m \u001b[39m\u001b[38;5;28;01mimport\u001b[39;00m multenterbox, msgbox\n\u001b[32m      8\u001b[39m \u001b[38;5;28;01mdef\u001b[39;00m\u001b[38;5;250m \u001b[39m\u001b[34mlangtonAnt\u001b[39m():\n\u001b[32m      9\u001b[39m \n\u001b[32m     10\u001b[39m     \u001b[38;5;66;03m#Configuración el multenterbox para pedir datos al usuario\u001b[39;00m\n\u001b[32m     11\u001b[39m     msg = \u001b[33m\"\u001b[39m\u001b[33mPor favor, introduzca los datos\u001b[39m\u001b[33m\"\u001b[39m + \u001b[33m\"\u001b[39m\u001b[38;5;130;01m\\n\u001b[39;00m\u001b[33mNota 1: Tenga en cuenta que la posición x, y = (0, 0) es el centro de la ventana, pero su <<n>> será tomado de forma global.\u001b[39m\u001b[33m\"\u001b[39m + \u001b[33m\"\u001b[39m\u001b[38;5;130;01m\\n\u001b[39;00m\u001b[33mNota 2: Tenga en cuenta que La hormiga sigue un camino aparentemente azaroso hasta los 10.000 pasos.\u001b[39m\u001b[33m\"\u001b[39m\n",
      "\u001b[31mModuleNotFoundError\u001b[39m: No module named 'easygui'"
     ]
    },
    {
     "ename": "",
     "evalue": "",
     "output_type": "error",
     "traceback": [
      "\u001b[1;31mThe Kernel crashed while executing code in the current cell or a previous cell. \n",
      "\u001b[1;31mPlease review the code in the cell(s) to identify a possible cause of the failure. \n",
      "\u001b[1;31mClick <a href='https://aka.ms/vscodeJupyterKernelCrash'>here</a> for more info. \n",
      "\u001b[1;31mView Jupyter <a href='command:jupyter.viewOutput'>log</a> for further details."
     ]
    }
   ],
   "source": [
    "import turtle\n",
    "import sys\n",
    "import time\n",
    "import math\n",
    "from win32api import GetSystemMetrics\n",
    "from easygui import multenterbox, msgbox\n",
    "\n",
    "def langtonAnt():\n",
    "    \n",
    "    #Configuración el multenterbox para pedir datos al usuario\n",
    "    msg = \"Por favor, introduzca los datos\" + \"\\nNota 1: Tenga en cuenta que la posición x, y = (0, 0) es el centro de la ventana, pero su <<n>> será tomado de forma global.\" + \"\\nNota 2: Tenga en cuenta que La hormiga sigue un camino aparentemente azaroso hasta los 10.000 pasos.\"\n",
    "    title = \"La hormiga de Langton\"\n",
    "    fieldNames = [\"Número de movimientos:\", \"Posición inicial x:\", \"Posición inicial y:\", \"Tamaño <<n>> de la grilla:\"]\n",
    "    fieldValues = multenterbox(msg, title, fieldNames)\n",
    "    if fieldValues is None:\n",
    "        sys.exit(0)\n",
    "    \n",
    "    #Se comprueba que el usuario ha llenado todos los campos\n",
    "    while 1:\n",
    "        errorMsg = \"\"\n",
    "        for i, name in enumerate(fieldNames):\n",
    "            if fieldValues[i].strip() == \"\":\n",
    "                errorMsg += \"{} Es un campo requerido para iniciar.\\n\\n\".format(name)\n",
    "        if errorMsg == \"\":\n",
    "            break #Todos los campos llenos\n",
    "        fieldValues = multenterbox(errorMsg, title, fieldNames, fieldValues)\n",
    "        if fieldValues is None:\n",
    "            break\n",
    "    \n",
    "    #Configuración la ventana\n",
    "    widht = GetSystemMetrics(0)\n",
    "    height = GetSystemMetrics(1)\n",
    "    wn = turtle.Screen()\n",
    "    wn.title(\"La Hormiga de Langton\")\n",
    "    wn.bgcolor(\"white\")\n",
    "    wn.screensize(widht, height)\n",
    "\n",
    "    #Se llama la función para dibujar el borde de la grilla\n",
    "    border((int(fieldValues[3])+10))\n",
    "\n",
    "    #Configuración del texto contador de movimientos\n",
    "    text = turtle.Turtle()\n",
    "    text.speed(0)\n",
    "    text.color(\"red\")\n",
    "    text.penup()\n",
    "    text.hideturtle()\n",
    "    text.goto(0, 300)\n",
    "\n",
    "    #Dicionario con las cordenadas y su respectivo color \n",
    "    maps = {}\n",
    "\n",
    "    #Configuración de la hormiga\n",
    "    ant =  turtle.Turtle()\n",
    "    ant.shape(\"square\")\n",
    "    ant.shapesize(0.5)\n",
    "    ant.penup()\n",
    "    ant.goto(int(fieldValues[1]), int(fieldValues[2]))\n",
    "    ant.speed(0)\n",
    "    pos = coordinate(ant)\n",
    "\n",
    "    #Variable para contar los movimientos\n",
    "    cont = 0\n",
    "\n",
    "    #Variable para verificar que la hormiga no se salga de los limites\n",
    "    hit = False\n",
    "    \n",
    "    #Movimiento de la hormiga\n",
    "    while cont <= int(fieldValues[0])-1 and hit == False:\n",
    "        step = 10\n",
    "        if pos not in maps or maps[pos] == \"white\":\n",
    "            ant.fillcolor(\"black\")\n",
    "            ant.stamp()\n",
    "            invert(maps, ant, \"black\")\n",
    "            ant.right(90)\n",
    "            ant.forward(step)\n",
    "            pos = coordinate(ant)\n",
    "            cont += 1\n",
    "        elif maps[pos] == \"black\":\n",
    "            ant.fillcolor(\"white\")\n",
    "            ant.stamp()\n",
    "            invert(maps, ant, \"white\")\n",
    "            ant.left(90)\n",
    "            ant.forward(step)\n",
    "            pos = coordinate(ant)\n",
    "            cont += 1\n",
    "        \n",
    "        #Comprueba que la hormiga esta dentro de la grilla\n",
    "        if round(math.fabs(ant.xcor())) > (int(fieldValues[3]) / 2) - 1:\n",
    "            hit = True\n",
    "            msgbox(msg=\"La hormiga no puede segir avanzando porque chocó con los bordes de la grilla que usted introdujo.\"\n",
    "            \"\\nSi desea que la hormiga complete todos los movimientos, se recomienda introducir una grilla mas grande.\", title=\"Fuera de límites\", ok_button=\"Aceptar\")\n",
    "        if round(math.fabs(ant.ycor())) > (int(fieldValues[3]) / 2) - 1:\n",
    "            hit = True\n",
    "            msgbox(msg=\"La hormiga no puede segir avanzando porque chocó con los bordes de la grilla que usted introdujo.\"\n",
    "            \"\\nSi desea que la hormiga complete todos los movimientos, se recomienda introducir una grilla mas grande.\", title=\"Fuera de límites\", ok_button=\"Aceptar\")\n",
    "\n",
    "        text.clear()\n",
    "        text.write(\"Movimientos: {}\".format(cont), align=\"center\", font=(\"Courier\", 24, \"normal\")) \n",
    "\n",
    "    while True:\n",
    "        wn.update()        \n",
    "\n",
    "#Devuelve la cordenada de la hormiga en una tupla\n",
    "def coordinate(ant):\n",
    "    return (round(ant.xcor()), round(ant.ycor()))\n",
    "\n",
    "#Invierte el color de la celda de la grilla en que está la hormiga\n",
    "def invert(graph, ant, color):\n",
    "    graph[coordinate(ant)] = color\n",
    "\n",
    "#Dibuja el borde de la grilla\n",
    "def border(n):\n",
    "    border = turtle.Turtle()\n",
    "    border.hideturtle()\n",
    "    border.penup()\n",
    "    border.goto(n/2, 0)\n",
    "    border.pendown()\n",
    "    border.left(90)\n",
    "    border.forward(n/2)\n",
    "    border.left(90)\n",
    "    border.forward(n)\n",
    "    border.left(90)\n",
    "    border.forward(n)\n",
    "    border.left(90)\n",
    "    border.forward(n)\n",
    "    border.left(90)\n",
    "    border.forward(n/2)\n",
    "\n",
    "#Se ejecuta el código\n",
    "langtonAnt()"
   ]
  },
  {
   "cell_type": "markdown",
   "metadata": {},
   "source": [
    "9. El Juego de la Vida de Conway consiste en un tablero donde cada casilla representa una célula, de manera que a cada célula le rodean 8 vecinas. Las células tienen dos estados: están *vivas* o *muertas*. En cada iteración, el estado de todas las células se tiene en cuenta para calcular el estado siguiente en simultáneo de acuerdo a las siguientes acciones:\n",
    "\n",
    "* Nacer: Si una célula muerta tiene exactamente 3 células vecinas vivas, dicha célula pasa a estar viva.\n",
    "\n",
    "* Morir: Una célula viva puede morir sobrepoblación cuando tiene más de tres vecinos alrededor o por aislamiento si tiene solo un vecino o ninguno.\n",
    "\n",
    "* Vivir: una célula se mantiene viva si tiene 2 o 3 vecinos a su alrededor.\n",
    "\n",
    "    Caracterice el agente con su tabla REAS y las propiedades del entorno para después programarlo en Python:"
   ]
  },
  {
   "cell_type": "code",
   "execution_count": null,
   "metadata": {},
   "outputs": [],
   "source": []
  },
  {
   "attachments": {},
   "cell_type": "markdown",
   "metadata": {
    "id": "oXcAF__NmgG5"
   },
   "source": [
    "# Bibliografía\n",
    "\n",
    "[Russell, S. & Norvig, P. (2004) _Inteligencia Artificial: Un Enfoque Moderno_. Pearson Educación S.A. (2a Ed.) Madrid, España](https://www.academia.edu/8241613/Inteligencia_Aritificial_Un_Enfoque_Moderno_2da_Edici%C3%B3n_Stuart_J_Russell_y_Peter_Norvig)\n",
    "\n",
    "[Poole, D. & Mackworth, A. (2023) _Artificial Intelligence: Foundations of Computational Agents_. Cambridge University Press (3a Ed.) Vancouver, Canada](https://artint.info/3e/html/ArtInt3e.html)"
   ]
  }
 ],
 "metadata": {
  "colab": {
   "provenance": []
  },
  "kernelspec": {
   "display_name": "Python 3",
   "language": "python",
   "name": "python3"
  },
  "language_info": {
   "codemirror_mode": {
    "name": "ipython",
    "version": 3
   },
   "file_extension": ".py",
   "mimetype": "text/x-python",
   "name": "python",
   "nbconvert_exporter": "python",
   "pygments_lexer": "ipython3",
   "version": "3.13.6"
  }
 },
 "nbformat": 4,
 "nbformat_minor": 4
}
